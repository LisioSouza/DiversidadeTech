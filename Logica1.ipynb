{
  "nbformat": 4,
  "nbformat_minor": 0,
  "metadata": {
    "colab": {
      "provenance": [],
      "collapsed_sections": [],
      "authorship_tag": "ABX9TyP5iII8N0HQ0jvuzPS7RCME",
      "include_colab_link": true
    },
    "kernelspec": {
      "name": "python3",
      "display_name": "Python 3"
    },
    "language_info": {
      "name": "python"
    }
  },
  "cells": [
    {
      "cell_type": "markdown",
      "metadata": {
        "id": "view-in-github",
        "colab_type": "text"
      },
      "source": [
        "<a href=\"https://colab.research.google.com/github/LisioSouza/DiversidadeTech/blob/main/Logica1.ipynb\" target=\"_parent\"><img src=\"https://colab.research.google.com/assets/colab-badge.svg\" alt=\"Open In Colab\"/></a>"
      ]
    },
    {
      "cell_type": "markdown",
      "source": [
        "Lógica de programação I\n",
        "\n",
        "Aula 1 - Exercícios\n"
      ],
      "metadata": {
        "id": "IkgouU4Vz1K5"
      }
    },
    {
      "cell_type": "code",
      "execution_count": null,
      "metadata": {
        "colab": {
          "base_uri": "https://localhost:8080/"
        },
        "id": "I0xK7z65yKV2",
        "outputId": "a44180b3-08f4-4a86-88bf-5676c2025b5c"
      },
      "outputs": [
        {
          "output_type": "stream",
          "name": "stdout",
          "text": [
            "Digite o primeiro número: 25\n",
            "Digite o segundo número: 25\n",
            "A soma de 25 + 25 é: 50\n"
          ]
        }
      ],
      "source": [
        "numero1 = int(input('Digite o primeiro número: '))\n",
        "numero2 = int(input('Digite o segundo número: '))\n",
        "soma = numero1 + numero2\n",
        "print(f'A soma de {numero1} + {numero2} é: {soma}')\n"
      ]
    },
    {
      "cell_type": "code",
      "source": [
        "numero = float(input('Informe o valor em metro(s): '))\n",
        "numero_convertido = numero * 100\n",
        "print(f'O valor de {numero} metro(s) em centímetros é: {numero_convertido:.2f}')"
      ],
      "metadata": {
        "colab": {
          "base_uri": "https://localhost:8080/"
        },
        "id": "oS8OEf3T2oQT",
        "outputId": "e2266039-c65d-40eb-8b18-bb11b67e18d0"
      },
      "execution_count": null,
      "outputs": [
        {
          "output_type": "stream",
          "name": "stdout",
          "text": [
            "Informe o valor em metro(s): 1\n",
            "O valor de 1.0 metro(s) em centímetros é: 100.00\n"
          ]
        }
      ]
    },
    {
      "cell_type": "code",
      "source": [
        "lado = int(input('Digite o valor do lado do quadrado: '))\n",
        "area = lado **2\n",
        "dobro_area = area * 2\n",
        "print(f'O dobro da área do quadrado é: {dobro_area}!')"
      ],
      "metadata": {
        "colab": {
          "base_uri": "https://localhost:8080/"
        },
        "id": "2DS1Pd5b6JIp",
        "outputId": "8d13e05e-83ef-4822-d014-bedf0f8a787e"
      },
      "execution_count": null,
      "outputs": [
        {
          "output_type": "stream",
          "name": "stdout",
          "text": [
            "Digite o valor do lado do quadrado: 2\n",
            "O dobro da área do quadrado é: 8!\n"
          ]
        }
      ]
    },
    {
      "cell_type": "code",
      "source": [
        "altura = float(input('Digite sua altura: '))\n",
        "peso_ideal = (72.7 * altura) - 58\n",
        "print(f'Seu peso ideal é: {peso_ideal:.2f}')"
      ],
      "metadata": {
        "colab": {
          "base_uri": "https://localhost:8080/"
        },
        "id": "cigVNdDr7bCk",
        "outputId": "f72b8e7f-a5c3-4403-965f-6dae717466ec"
      },
      "execution_count": null,
      "outputs": [
        {
          "output_type": "stream",
          "name": "stdout",
          "text": [
            "Digite sua altura: 1.66\n",
            "Seu peso ideal é: 62.68\n"
          ]
        }
      ]
    },
    {
      "cell_type": "code",
      "source": [
        "calculo = int(1440/(30 * (20 + (49 - 35) * 2)))\n",
        "print(calculo)\n"
      ],
      "metadata": {
        "colab": {
          "base_uri": "https://localhost:8080/"
        },
        "id": "9KUMTvaP9_QK",
        "outputId": "2597eca1-bb05-4e07-b373-14ceb5a59b6d"
      },
      "execution_count": null,
      "outputs": [
        {
          "output_type": "stream",
          "name": "stdout",
          "text": [
            "1\n"
          ]
        }
      ]
    },
    {
      "cell_type": "markdown",
      "source": [
        "Aula 2 - Exercícios"
      ],
      "metadata": {
        "id": "zvUYcTHW_gG8"
      }
    },
    {
      "cell_type": "code",
      "source": [
        "letra = input('Digite uma letra: ')\n",
        "if letra in 'aeiouAEIOU':\n",
        "  print(f'A letra é uma vogal!')\n",
        "else:\n",
        "  print(f'A letra é uma consoante!')\n",
        "\n",
        "\n"
      ],
      "metadata": {
        "colab": {
          "base_uri": "https://localhost:8080/"
        },
        "id": "fJLx9WIs_oII",
        "outputId": "dcccac62-bc32-4cb4-fbd2-41ab3a236b01"
      },
      "execution_count": null,
      "outputs": [
        {
          "output_type": "stream",
          "name": "stdout",
          "text": [
            "Digite uma letra: e\n",
            "A letra é uma vogal!\n"
          ]
        }
      ]
    },
    {
      "cell_type": "code",
      "source": [
        "nota1 = float(input('Digite a primeira nota: '))\n",
        "nota2 = float(input('Digite a segunda nota: '))\n",
        "media = (nota1 + nota2)/2\n",
        "if media >= 7.0 and media < 10.0:\n",
        "  print('Aprovado!')\n",
        "elif media == 10.0:\n",
        "  print('Aprovado com Distinção!')\n",
        "else:\n",
        "  print('Reprovado!')"
      ],
      "metadata": {
        "colab": {
          "base_uri": "https://localhost:8080/"
        },
        "id": "MUwEejl4AuLf",
        "outputId": "797a5e0c-be5c-457a-8c4e-3ebf5ab3ce4e"
      },
      "execution_count": null,
      "outputs": [
        {
          "output_type": "stream",
          "name": "stdout",
          "text": [
            "Digite a primeira nota: 10\n",
            "Digite a segunda nota: 10\n",
            "Aprovado com Distinção!\n"
          ]
        }
      ]
    },
    {
      "cell_type": "markdown",
      "source": [
        "Faça um programa que imprima na tela apenas os números ímpares entre 1 e 50."
      ],
      "metadata": {
        "id": "s26Ggp4Lk5O7"
      }
    },
    {
      "cell_type": "code",
      "source": [
        "numero = int(input('Digite um número: '))\n",
        "while numero > 50:\n",
        "  if numero%2 != 0:\n",
        "    print(numero)\n",
        "    numero +=1\n",
        "    \n",
        "\n",
        "    "
      ],
      "metadata": {
        "id": "A-kdTD6UD8NI",
        "colab": {
          "base_uri": "https://localhost:8080/"
        },
        "outputId": "60e23198-8bc3-4cc3-c5fd-146100b47bdb"
      },
      "execution_count": null,
      "outputs": [
        {
          "name": "stdout",
          "output_type": "stream",
          "text": [
            "Digite um número: 5\n"
          ]
        }
      ]
    },
    {
      "cell_type": "markdown",
      "source": [
        "Faça um programa que calcule o fatorial de um número inteiro fornecido pelo usuário"
      ],
      "metadata": {
        "id": "BuOxWcfA2fev"
      }
    },
    {
      "cell_type": "code",
      "source": [
        "numero = int(input('Mostre o fatorial de: '))\n",
        "contador = 1\n",
        "fatorial = 1\n",
        "\n",
        "while contador <= numero:\n",
        "  fatorial = fatorial * contador\n",
        "  contador +=1\n",
        "\n",
        "print(f'O fatorial de {numero} é {fatorial}')\n"
      ],
      "metadata": {
        "colab": {
          "base_uri": "https://localhost:8080/"
        },
        "id": "E8ppStmvK_Ij",
        "outputId": "15bf9243-1d81-4ccd-fd9b-5b245f186c2d"
      },
      "execution_count": null,
      "outputs": [
        {
          "output_type": "stream",
          "name": "stdout",
          "text": [
            "Mostre o fatorial de: 10\n",
            "O fatorial de 10 é 3628800\n"
          ]
        }
      ]
    },
    {
      "cell_type": "code",
      "source": [
        "for contador in range(20, 0, -1):\n",
        "  print(contador)"
      ],
      "metadata": {
        "id": "NDsrliGVu5Yf"
      },
      "execution_count": null,
      "outputs": []
    }
  ]
}